{
 "cells": [
  {
   "cell_type": "code",
   "execution_count": 1,
   "metadata": {},
   "outputs": [],
   "source": [
    "import random"
   ]
  },
  {
   "cell_type": "code",
   "execution_count": 2,
   "metadata": {},
   "outputs": [],
   "source": [
    "game_title = \"Word Raider\""
   ]
  },
  {
   "cell_type": "code",
   "execution_count": 3,
   "metadata": {},
   "outputs": [],
   "source": [
    "word_bank = []"
   ]
  },
  {
   "cell_type": "code",
   "execution_count": 4,
   "metadata": {},
   "outputs": [],
   "source": [
    "with open(\"words.txt\") as word_file:\n",
    "    for line in word_file:\n",
    "        word_bank.append(line.rstrip().lower())"
   ]
  },
  {
   "cell_type": "code",
   "execution_count": 5,
   "metadata": {},
   "outputs": [],
   "source": [
    "word_to_guess = random.choice(word_bank)"
   ]
  },
  {
   "cell_type": "code",
   "execution_count": 8,
   "metadata": {},
   "outputs": [],
   "source": [
    "misplaced_guesses = []\n",
    "incorrect_guesses = []\n",
    "max_turns = 5\n",
    "turns_taken = 0"
   ]
  },
  {
   "cell_type": "code",
   "execution_count": 9,
   "metadata": {},
   "outputs": [
    {
     "name": "stdout",
     "output_type": "stream",
     "text": [
      "Welcome to Word Raider\n",
      "The word has 5 letters.\n",
      "You have 5 turns left.\n"
     ]
    }
   ],
   "source": [
    "print(\"Welcome to\", game_title)\n",
    "print(\"The word has\", len(word_to_guess), \"letters.\")\n",
    "print(\"You have\", max_turns - turns_taken, \"turns left.\")"
   ]
  },
  {
   "cell_type": "code",
   "execution_count": null,
   "metadata": {},
   "outputs": [
    {
     "name": "stdin",
     "output_type": "stream",
     "text": [
      "Guess a word:  arthur\n"
     ]
    },
    {
     "name": "stdout",
     "output_type": "stream",
     "text": [
      "Please enter 5-letter word.\n"
     ]
    },
    {
     "name": "stdin",
     "output_type": "stream",
     "text": [
      "Guess a word:  apple\n"
     ]
    },
    {
     "name": "stdout",
     "output_type": "stream",
     "text": [
      "_ _ _ _ _ \n",
      "\n",
      "Misplaced letters:  ['p', 'l', 'e']\n",
      "Incorrect letters:  ['a']\n",
      "You have 4 turns left.\n"
     ]
    },
    {
     "name": "stdin",
     "output_type": "stream",
     "text": [
      "Guess a word:  spear\n"
     ]
    },
    {
     "name": "stdout",
     "output_type": "stream",
     "text": [
      "_ _ _ _ _ \n",
      "\n",
      "Misplaced letters:  ['p', 'l', 'e', 's']\n",
      "Incorrect letters:  ['a', 'r']\n",
      "You have 3 turns left.\n"
     ]
    }
   ],
   "source": [
    "while turns_taken < max_turns:\n",
    "    # Get the player's guess\n",
    "    guess = input(\"Guess a word: \").lower()\n",
    "\n",
    "    # Check if the guess length equals 5 letters and is all alpha letters\n",
    "    if len(guess) != len(word_to_guess) or not guess.isalpha():\n",
    "        print(\"Please enter 5-letter word.\")\n",
    "        continue\n",
    "\n",
    "    # Check each letter in the guess against the word's letters\n",
    "    index = 0\n",
    "    for c in guess:\n",
    "        if c == word_to_guess[index]:\n",
    "            print(c, end=\" \")\n",
    "            if c in misplaced_guesses:\n",
    "                misplaced_guesses.remove(c)\n",
    "        elif c in word_to_guess:\n",
    "            if c not in misplaced_guesses:\n",
    "                misplaced_guesses.append(c)\n",
    "            print(\"_\", end=\" \")\n",
    "        else:\n",
    "            if c not in incorrect_guesses:\n",
    "                incorrect_guesses.append(c)\n",
    "            print(\"_\", end=\" \")\n",
    "        index += 1\n",
    "\n",
    "    print(\"\\n\")\n",
    "    print(\"Misplaced letters: \", misplaced_guesses)\n",
    "    print(\"Incorrect letters: \", incorrect_guesses)\n",
    "    turns_taken += 1\n",
    "\n",
    "    # Check if the player has won\n",
    "    if guess == word_to_guess:\n",
    "        print(\"Congratulations, you win!\")\n",
    "        break\n",
    "\n",
    "    # Check if the player has lost\n",
    "    if turns_taken == max_turns:\n",
    "        print(\"Sorry, you lost. The word was\", word_to_guess)\n",
    "        break\n",
    "\n",
    "    # Display the number of turns left and ask for another guess\n",
    "    print(\"You have\", max_turns - turns_taken, \"turns left.\")"
   ]
  },
  {
   "cell_type": "code",
   "execution_count": null,
   "metadata": {},
   "outputs": [],
   "source": []
  }
 ],
 "metadata": {
  "kernelspec": {
   "display_name": "Python 3 (ipykernel)",
   "language": "python",
   "name": "python3"
  },
  "language_info": {
   "codemirror_mode": {
    "name": "ipython",
    "version": 3
   },
   "file_extension": ".py",
   "mimetype": "text/x-python",
   "name": "python",
   "nbconvert_exporter": "python",
   "pygments_lexer": "ipython3",
   "version": "3.10.6"
  }
 },
 "nbformat": 4,
 "nbformat_minor": 4
}
